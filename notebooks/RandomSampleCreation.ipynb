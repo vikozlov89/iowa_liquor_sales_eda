{
 "cells": [
  {
   "cell_type": "code",
   "execution_count": 1,
   "metadata": {},
   "outputs": [
    {
     "name": "stderr",
     "output_type": "stream",
     "text": [
      "FutureWarning: pandas.core.index is deprecated and will be removed in a future version.  The public classes are available in the top-level namespace.\n",
      "UserWarning: The Dask Engine for Modin is experimental.\n"
     ]
    }
   ],
   "source": [
    "import modin.pandas as pd #built on top of dask with parallelization and hookers\n",
    "import os\n",
    "import numpy as np\n",
    "from datetime import datetime\n",
    "\n",
    "np.random.seed(123)"
   ]
  },
  {
   "cell_type": "markdown",
   "metadata": {},
   "source": [
    "# Functions"
   ]
  },
  {
   "cell_type": "code",
   "execution_count": 2,
   "metadata": {},
   "outputs": [],
   "source": [
    "def parse_date(date_str):\n",
    "    yr,mon,day = [int(val) for val in date_str.split('-')]\n",
    "    return datetime (yr,mon,day)\n",
    "\n",
    "\n",
    "def make_invoice_map(invoice_number,p=0.2):\n",
    "    \"\"\"\n",
    "    Selects invoices for a random sample\n",
    "    \"\"\"\n",
    "    invoice_map = {}\n",
    "    for val in invoice_number:\n",
    "        if val not in invoice_map:\n",
    "            invoice_map[val] = bool(np.random.binomial(p=p,n=1))\n",
    "    return invoice_map"
   ]
  },
  {
   "cell_type": "markdown",
   "metadata": {},
   "source": [
    "# Random Sample Creation"
   ]
  },
  {
   "cell_type": "markdown",
   "metadata": {},
   "source": [
    "We will chose random invoices rather than random rows to preserve the structure of particular invoices"
   ]
  },
  {
   "cell_type": "code",
   "execution_count": 3,
   "metadata": {},
   "outputs": [],
   "source": [
    "DATA_PATH = os.path.join(\"..\",\"data\",\"raw\")\n",
    "PROCESSED_DATA_PATH = os.path.join(\"..\",\"data\",\"processed\")"
   ]
  },
  {
   "cell_type": "code",
   "execution_count": 4,
   "metadata": {},
   "outputs": [
    {
     "data": {
      "text/plain": [
       "['data_1.csv',\n",
       " 'data_10.csv',\n",
       " 'data_11.csv',\n",
       " 'data_12.csv',\n",
       " 'data_13.csv',\n",
       " 'data_14.csv',\n",
       " 'data_15.csv',\n",
       " 'data_16.csv',\n",
       " 'data_17.csv',\n",
       " 'data_18.csv',\n",
       " 'data_19.csv',\n",
       " 'data_2.csv',\n",
       " 'data_3.csv',\n",
       " 'data_4.csv',\n",
       " 'data_5.csv',\n",
       " 'data_6.csv',\n",
       " 'data_7.csv',\n",
       " 'data_8.csv',\n",
       " 'data_9.csv']"
      ]
     },
     "execution_count": 4,
     "metadata": {},
     "output_type": "execute_result"
    }
   ],
   "source": [
    "os.listdir(DATA_PATH)"
   ]
  },
  {
   "cell_type": "code",
   "execution_count": 5,
   "metadata": {},
   "outputs": [],
   "source": [
    "data = pd.concat([pd.read_csv(os.path.join(DATA_PATH,file),usecols=['invoice_and_item_number']) \n",
    "                  for file in os.listdir(DATA_PATH)])"
   ]
  },
  {
   "cell_type": "markdown",
   "metadata": {},
   "source": [
    "3) it seems like the key value consists of two parts:\n",
    "\n",
    "* invoice number (one letter and 6 numbers)\n",
    "* item number (five nummbers)\n",
    "Let's split it. It will allow us to join different items into a set contained in the same invoice.\n",
    "Now we can make a correct random sample including random invoices"
   ]
  },
  {
   "cell_type": "code",
   "execution_count": 6,
   "metadata": {},
   "outputs": [],
   "source": [
    "data['invoice_number'] = data.invoice_and_item_number.apply(lambda x: x[:7])\n",
    "data['invoice_letter'] = data.invoice_and_item_number.apply(lambda x: x[0])"
   ]
  },
  {
   "cell_type": "code",
   "execution_count": 7,
   "metadata": {},
   "outputs": [
    {
     "data": {
      "text/html": [
       "<div>\n",
       "<style scoped>\n",
       "    .dataframe tbody tr th:only-of-type {\n",
       "        vertical-align: middle;\n",
       "    }\n",
       "\n",
       "    .dataframe tbody tr th {\n",
       "        vertical-align: top;\n",
       "    }\n",
       "\n",
       "    .dataframe thead th {\n",
       "        text-align: right;\n",
       "    }\n",
       "</style>\n",
       "<table border=\"1\" class=\"dataframe\">\n",
       "  <thead>\n",
       "    <tr style=\"text-align: right;\">\n",
       "      <th></th>\n",
       "      <th>invoice_and_item_number</th>\n",
       "      <th>invoice_number</th>\n",
       "      <th>invoice_letter</th>\n",
       "    </tr>\n",
       "  </thead>\n",
       "  <tbody>\n",
       "    <tr>\n",
       "      <th>0</th>\n",
       "      <td>S03731700008</td>\n",
       "      <td>S037317</td>\n",
       "      <td>S</td>\n",
       "    </tr>\n",
       "    <tr>\n",
       "      <th>1</th>\n",
       "      <td>S13410800085</td>\n",
       "      <td>S134108</td>\n",
       "      <td>S</td>\n",
       "    </tr>\n",
       "    <tr>\n",
       "      <th>2</th>\n",
       "      <td>S05600200038</td>\n",
       "      <td>S056002</td>\n",
       "      <td>S</td>\n",
       "    </tr>\n",
       "    <tr>\n",
       "      <th>3</th>\n",
       "      <td>S06944000033</td>\n",
       "      <td>S069440</td>\n",
       "      <td>S</td>\n",
       "    </tr>\n",
       "    <tr>\n",
       "      <th>4</th>\n",
       "      <td>S26729300053</td>\n",
       "      <td>S267293</td>\n",
       "      <td>S</td>\n",
       "    </tr>\n",
       "  </tbody>\n",
       "</table>\n",
       "</div>"
      ],
      "text/plain": [
       "  invoice_and_item_number invoice_number invoice_letter\n",
       "0            S03731700008        S037317              S\n",
       "1            S13410800085        S134108              S\n",
       "2            S05600200038        S056002              S\n",
       "3            S06944000033        S069440              S\n",
       "4            S26729300053        S267293              S"
      ]
     },
     "execution_count": 7,
     "metadata": {},
     "output_type": "execute_result"
    }
   ],
   "source": [
    "data.head()"
   ]
  },
  {
   "cell_type": "code",
   "execution_count": 8,
   "metadata": {},
   "outputs": [
    {
     "name": "stderr",
     "output_type": "stream",
     "text": [
      "UserWarning: `Series.value_counts` defaulting to pandas implementation.\n",
      "To request implementation, send an email to feature_requests@modin.org.\n",
      "UserWarning: Distributing <class 'pandas.core.series.Series'> object. This may take some time.\n"
     ]
    },
    {
     "data": {
      "text/plain": [
       "S    9881372\n",
       "I    8216755\n",
       "3        184\n",
       "4        106\n",
       "dtype: int64"
      ]
     },
     "execution_count": 8,
     "metadata": {},
     "output_type": "execute_result"
    }
   ],
   "source": [
    "data.invoice_letter.fillna('NA').value_counts()"
   ]
  },
  {
   "cell_type": "code",
   "execution_count": 9,
   "metadata": {},
   "outputs": [
    {
     "name": "stderr",
     "output_type": "stream",
     "text": [
      "UserWarning: `Series.value_counts` defaulting to pandas implementation.\n"
     ]
    },
    {
     "data": {
      "text/plain": [
       "S    0.545980\n",
       "I    0.454004\n",
       "3    0.000010\n",
       "4    0.000006\n",
       "dtype: float64"
      ]
     },
     "execution_count": 9,
     "metadata": {},
     "output_type": "execute_result"
    }
   ],
   "source": [
    "data.invoice_letter.value_counts() / data.invoice_letter.count()"
   ]
  },
  {
   "cell_type": "code",
   "execution_count": null,
   "metadata": {},
   "outputs": [],
   "source": []
  },
  {
   "cell_type": "markdown",
   "metadata": {},
   "source": [
    "We have 290 rows with strange invoice numbers. We shoud check them."
   ]
  },
  {
   "cell_type": "markdown",
   "metadata": {},
   "source": [
    "It seems like we have splitted the invoice_and_item_number correctly. We have only 14_000 of invoices with one item which is expected."
   ]
  },
  {
   "cell_type": "code",
   "execution_count": 22,
   "metadata": {},
   "outputs": [
    {
     "data": {
      "text/plain": [
       "<matplotlib.axes._subplots.AxesSubplot at 0x2214b9f2408>"
      ]
     },
     "execution_count": 22,
     "metadata": {},
     "output_type": "execute_result"
    },
    {
     "data": {
      "image/png": "[encoded data removed]",
      "text/plain": [
       "<Figure size 1080x504 with 1 Axes>"
      ]
     },
     "metadata": {
      "needs_background": "light"
     },
     "output_type": "display_data"
    }
   ],
   "source": [
    "data.groupby('invoice_number').invoice_number.count().value_counts().head(50).plot.bar(figsize=(15,7))"
   ]
  },
  {
   "cell_type": "code",
   "execution_count": 23,
   "metadata": {},
   "outputs": [
    {
     "data": {
      "text/plain": [
       "count    255128.000000\n",
       "mean         70.938576\n",
       "std        1022.100609\n",
       "min           1.000000\n",
       "25%          13.000000\n",
       "50%          25.000000\n",
       "75%          48.000000\n",
       "max       43374.000000\n",
       "Name: invoice_number, dtype: float64"
      ]
     },
     "execution_count": 23,
     "metadata": {},
     "output_type": "execute_result"
    }
   ],
   "source": [
    "data.groupby('invoice_number').invoice_number.count().describe()"
   ]
  },
  {
   "cell_type": "markdown",
   "metadata": {},
   "source": [
    "# Part 1. Choosing random invoices"
   ]
  },
  {
   "cell_type": "code",
   "execution_count": 10,
   "metadata": {},
   "outputs": [
    {
     "name": "stderr",
     "output_type": "stream",
     "text": [
      "UserWarning: `Series.groupby` defaulting to pandas implementation.\n"
     ]
    }
   ],
   "source": [
    "unique_invoices = data.invoice_number.groupby(data.invoice_number).count().index.values"
   ]
  },
  {
   "cell_type": "code",
   "execution_count": 11,
   "metadata": {},
   "outputs": [],
   "source": [
    "chosen_invoices = set(np.random.choice(unique_invoices,size=int(unique_invoices.shape[0]*0.2),replace=False))"
   ]
  },
  {
   "cell_type": "code",
   "execution_count": 12,
   "metadata": {},
   "outputs": [
    {
     "name": "stderr",
     "output_type": "stream",
     "text": [
      "UserWarning: User-defined function verification is still under development in Modin. The function provided is not verified.\n"
     ]
    }
   ],
   "source": [
    "bad_invoices = set((data[data['invoice_letter'].apply(lambda x: x not in ('S','I'))].invoice_number.drop_duplicates().values))"
   ]
  },
  {
   "cell_type": "code",
   "execution_count": 13,
   "metadata": {},
   "outputs": [
    {
     "data": {
      "text/plain": [
       "{'3068313', '3789000', '3818000', '3818001', '4295S05', '4697000'}"
      ]
     },
     "execution_count": 13,
     "metadata": {},
     "output_type": "execute_result"
    }
   ],
   "source": [
    "bad_invoices"
   ]
  },
  {
   "cell_type": "code",
   "execution_count": 14,
   "metadata": {},
   "outputs": [],
   "source": [
    "df_columns = ['invoice_and_item_number', 'date', 'store_number', 'store_name',\n",
    "       'address', 'city', 'zip_code', 'store_location', 'county_number',\n",
    "       'county', 'category', 'category_name', 'vendor_number', 'vendor_name',\n",
    "       'item_number', 'item_description', 'pack', 'bottle_volume_ml',\n",
    "       'state_bottle_cost', 'state_bottle_retail', 'bottles_sold',\n",
    "       'sale_dollars', 'volume_sold_liters', 'volume_sold_gallons']\n"
   ]
  },
  {
   "cell_type": "code",
   "execution_count": 15,
   "metadata": {},
   "outputs": [
    {
     "name": "stderr",
     "output_type": "stream",
     "text": [
      "UserWarning: Distributing <class 'list'> object. This may take some time.\n",
      "UserWarning: `DataFrame.append` for empty DataFrame defaulting to pandas implementation.\n",
      "UserWarning: Distributing <class 'pandas.core.frame.DataFrame'> object. This may take some time.\n"
     ]
    },
    {
     "name": "stdout",
     "output_type": "stream",
     "text": [
      "(203947, 27) 203947\n",
      "(408463, 27) 204516\n",
      "(610888, 27) 202425\n",
      "(814647, 27) 203759\n",
      "(1017912, 27) 203265\n",
      "(1222584, 27) 204672\n",
      "(1426530, 27) 203946\n",
      "(1630841, 27) 204311\n",
      "(1835302, 27) 204461\n",
      "(2039521, 27) 204219\n",
      "(2059458, 27) 19937\n",
      "(2263159, 27) 203701\n",
      "(2468205, 27) 205046\n",
      "(2671164, 27) 202959\n",
      "(2875569, 27) 204405\n",
      "(3079039, 27) 203470\n",
      "(3283492, 27) 204453\n",
      "(3487741, 27) 204249\n",
      "(3691388, 27) 203647\n"
     ]
    }
   ],
   "source": [
    "sample = pd.DataFrame([])\n",
    "bad_invoices_data = pd.DataFrame([])\n",
    "for file in os.listdir(DATA_PATH):\n",
    "    tmp = pd.read_csv(os.path.join(DATA_PATH,file),parse_dates=['date'],date_parser=parse_date) \n",
    "    tmp['invoice_number'] = tmp.invoice_and_item_number.apply(lambda x: x[:7])       \n",
    "    tmp['to_sample'] = tmp.invoice_number.apply(lambda x: x in chosen_invoices)\n",
    "    tmp['bad_invoice'] = tmp.invoice_number.apply(lambda x: x in bad_invoices)\n",
    "    \n",
    "    sample = sample.append(tmp[tmp.to_sample]) if sample.shape[0] else tmp[tmp.to_sample]\n",
    "    bad_invoices_data = bad_invoices_data.append(tmp[tmp.bad_invoice]) if sample.shape[0] else tmp[tmp.bad_invoice]\n",
    "    \n",
    "    print(sample.shape, tmp.to_sample.sum())"
   ]
  },
  {
   "cell_type": "code",
   "execution_count": 18,
   "metadata": {},
   "outputs": [],
   "source": [
    "tmp = None\n",
    "data = None\n",
    "unique_invoices = None"
   ]
  },
  {
   "cell_type": "code",
   "execution_count": 14,
   "metadata": {},
   "outputs": [
    {
     "name": "stderr",
     "output_type": "stream",
     "text": [
      "UserWarning: `DataFrame.agg` defaulting to pandas implementation.\n"
     ]
    },
    {
     "data": {
      "text/html": [
       "<div>\n",
       "<style scoped>\n",
       "    .dataframe tbody tr th:only-of-type {\n",
       "        vertical-align: middle;\n",
       "    }\n",
       "\n",
       "    .dataframe tbody tr th {\n",
       "        vertical-align: top;\n",
       "    }\n",
       "\n",
       "    .dataframe thead th {\n",
       "        text-align: right;\n",
       "    }\n",
       "</style>\n",
       "<table border=\"1\" class=\"dataframe\">\n",
       "  <thead>\n",
       "    <tr style=\"text-align: right;\">\n",
       "      <th></th>\n",
       "      <th>invoice_and_item_number</th>\n",
       "      <th>date</th>\n",
       "      <th>pack</th>\n",
       "      <th>volume_sold_liters</th>\n",
       "    </tr>\n",
       "  </thead>\n",
       "  <tbody>\n",
       "    <tr>\n",
       "      <th>count</th>\n",
       "      <td>3691388.0</td>\n",
       "      <td>NaN</td>\n",
       "      <td>NaN</td>\n",
       "      <td>NaN</td>\n",
       "    </tr>\n",
       "    <tr>\n",
       "      <th>max</th>\n",
       "      <td>NaN</td>\n",
       "      <td>2020-02-28 00:00:00</td>\n",
       "      <td>NaN</td>\n",
       "      <td>NaN</td>\n",
       "    </tr>\n",
       "    <tr>\n",
       "      <th>mean</th>\n",
       "      <td>NaN</td>\n",
       "      <td>NaN</td>\n",
       "      <td>12.302063</td>\n",
       "      <td>9.140501</td>\n",
       "    </tr>\n",
       "    <tr>\n",
       "      <th>min</th>\n",
       "      <td>NaN</td>\n",
       "      <td>2012-01-03 00:00:00</td>\n",
       "      <td>NaN</td>\n",
       "      <td>NaN</td>\n",
       "    </tr>\n",
       "    <tr>\n",
       "      <th>nunique</th>\n",
       "      <td>NaN</td>\n",
       "      <td>1304</td>\n",
       "      <td>NaN</td>\n",
       "      <td>NaN</td>\n",
       "    </tr>\n",
       "    <tr>\n",
       "      <th>std</th>\n",
       "      <td>NaN</td>\n",
       "      <td>NaN</td>\n",
       "      <td>7.633034</td>\n",
       "      <td>32.954753</td>\n",
       "    </tr>\n",
       "  </tbody>\n",
       "</table>\n",
       "</div>"
      ],
      "text/plain": [
       "         invoice_and_item_number                 date       pack  \\\n",
       "count                  3691388.0                  NaN        NaN   \n",
       "max                          NaN  2020-02-28 00:00:00        NaN   \n",
       "mean                         NaN                  NaN  12.302063   \n",
       "min                          NaN  2012-01-03 00:00:00        NaN   \n",
       "nunique                      NaN                 1304        NaN   \n",
       "std                          NaN                  NaN   7.633034   \n",
       "\n",
       "         volume_sold_liters  \n",
       "count                   NaN  \n",
       "max                     NaN  \n",
       "mean               9.140501  \n",
       "min                     NaN  \n",
       "nunique                 NaN  \n",
       "std               32.954753  "
      ]
     },
     "execution_count": 14,
     "metadata": {},
     "output_type": "execute_result"
    }
   ],
   "source": [
    "sample.agg({'invoice_and_item_number':'count'\n",
    "            ,'date':['min','max','nunique']\n",
    "            ,'pack':['mean','std']\n",
    "            ,'volume_sold_liters':['mean','std']})"
   ]
  },
  {
   "cell_type": "code",
   "execution_count": 20,
   "metadata": {},
   "outputs": [
    {
     "name": "stderr",
     "output_type": "stream",
     "text": [
      "UserWarning: `DataFrame.to_csv` defaulting to pandas implementation.\n",
      "UserWarning: Distributing <class 'pandas.core.frame.DataFrame'> object. This may take some time.\n"
     ]
    }
   ],
   "source": [
    "sample.to_csv(os.path.join(PROCESSED_DATA_PATH,\"sample.csv\")) "
   ]
  },
  {
   "cell_type": "code",
   "execution_count": 23,
   "metadata": {},
   "outputs": [
    {
     "data": {
      "text/plain": [
       "invoice_and_item_number                               469700030\n",
       "date                                        2012-07-12 00:00:00\n",
       "store_number                                               4697\n",
       "store_name                 Southside Liquor & Tobacco / Iowa Ci\n",
       "address                                      601 HOLLYWOOD BLVD\n",
       "city                                                  IOWA CITY\n",
       "zip_code                                                  52240\n",
       "store_location                      POINT (-91.52741 41.643807)\n",
       "county_number                                                52\n",
       "county                                                  Johnson\n",
       "category                                             1.0813e+06\n",
       "category_name                               PEPPERMINT SCHNAPPS\n",
       "vendor_number                                               434\n",
       "vendor_name                                      Luxco-St Louis\n",
       "item_number                                               80571\n",
       "item_description                 Arrow Peppermint Schnapps Mini\n",
       "pack                                                         12\n",
       "bottle_volume_ml                                            500\n",
       "state_bottle_cost                                          4.54\n",
       "state_bottle_retail                                        6.81\n",
       "bottles_sold                                                 12\n",
       "sale_dollars                                              81.72\n",
       "volume_sold_liters                                            6\n",
       "volume_sold_gallons                                        1.59\n",
       "invoice_number                                          4697000\n",
       "to_sample                                                 False\n",
       "bad_invoice                                                True\n",
       "Name: 897420, dtype: object"
      ]
     },
     "execution_count": 23,
     "metadata": {},
     "output_type": "execute_result"
    }
   ],
   "source": [
    "bad_invoices_data.iloc[10]"
   ]
  },
  {
   "cell_type": "code",
   "execution_count": null,
   "metadata": {},
   "outputs": [],
   "source": []
  }
 ],
 "metadata": {
  "kernelspec": {
   "display_name": "Python 3",
   "language": "python",
   "name": "python3"
  },
  "language_info": {
   "codemirror_mode": {
    "name": "ipython",
    "version": 3
   },
   "file_extension": ".py",
   "mimetype": "text/x-python",
   "name": "python",
   "nbconvert_exporter": "python",
   "pygments_lexer": "ipython3",
   "version": "3.7.6"
  }
 },
 "nbformat": 4,
 "nbformat_minor": 2
}
