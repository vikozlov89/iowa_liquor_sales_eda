{
 "cells": [
  {
   "cell_type": "code",
   "execution_count": 41,
   "metadata": {},
   "outputs": [],
   "source": [
    "import pandas as pd\n",
    "import numpy as np\n",
    "from matplotlib import pyplot as plt\n",
    "import seaborn as sns\n",
    "import ipywidgets as ipw\n",
    "import os\n",
    "import qgrid\n",
    "from datetime import datetime\n",
    "import altair as alt"
   ]
  },
  {
   "cell_type": "code",
   "execution_count": 2,
   "metadata": {},
   "outputs": [],
   "source": [
    "PROCESSED_DATA_PATH = os.path.join(\"..\",\"data\",\"processed\")"
   ]
  },
  {
   "cell_type": "code",
   "execution_count": 38,
   "metadata": {},
   "outputs": [],
   "source": [
    "def parse_date(date_str):\n",
    "    yy,mm,dd = [int(i) for i in date_str.split('-')]\n",
    "    return datetime(yy,mm,dd)\n",
    "\n",
    "def parse_point(point_str, latitude=True):\n",
    "    if not point_str or point_str is None or point_str is np.nan:\n",
    "        return None\n",
    "    lat,lon = point_str.split('(',)[1].replace(')','').split()\n",
    "    return float(lat) if latitude else float(lon)"
   ]
  },
  {
   "cell_type": "markdown",
   "metadata": {},
   "source": [
    "# Reading Sample Data"
   ]
  },
  {
   "cell_type": "code",
   "execution_count": 15,
   "metadata": {},
   "outputs": [
    {
     "name": "stderr",
     "output_type": "stream",
     "text": [
      "DtypeWarning: Columns (15) have mixed types.Specify dtype option on import or set low_memory=False.\n"
     ]
    }
   ],
   "source": [
    "data = pd.read_csv(os.path.join(PROCESSED_DATA_PATH,'sample.csv'),parse_dates=['date'],date_parser=parse_date)"
   ]
  },
  {
   "cell_type": "code",
   "execution_count": 30,
   "metadata": {},
   "outputs": [],
   "source": [
    "data.drop('Unnamed: 0',axis=1,inplace=True)"
   ]
  },
  {
   "cell_type": "code",
   "execution_count": 31,
   "metadata": {},
   "outputs": [
    {
     "data": {
      "text/plain": [
       "Index(['invoice_and_item_number', 'date', 'store_number', 'store_name',\n",
       "       'address', 'city', 'zip_code', 'store_location', 'county_number',\n",
       "       'county', 'category', 'category_name', 'vendor_number', 'vendor_name',\n",
       "       'item_number', 'item_description', 'pack', 'bottle_volume_ml',\n",
       "       'state_bottle_cost', 'state_bottle_retail', 'bottles_sold',\n",
       "       'sale_dollars', 'volume_sold_liters', 'volume_sold_gallons',\n",
       "       'invoice_number', 'to_sample', 'bad_invoice'],\n",
       "      dtype='object')"
      ]
     },
     "execution_count": 31,
     "metadata": {},
     "output_type": "execute_result"
    }
   ],
   "source": [
    "data.columns"
   ]
  },
  {
   "cell_type": "code",
   "execution_count": 39,
   "metadata": {},
   "outputs": [],
   "source": [
    "data['invoice_letter'] = data.invoice_and_item_number.apply(lambda x: x[0])\n",
    "data['latitude'] = data.store_location.map(lambda x: parse_point(x))\n",
    "data['longitude'] = data.store_location.map(lambda x: parse_point(x,False))"
   ]
  },
  {
   "cell_type": "code",
   "execution_count": 40,
   "metadata": {},
   "outputs": [
    {
     "data": {
      "text/html": [
       "<div>\n",
       "<style scoped>\n",
       "    .dataframe tbody tr th:only-of-type {\n",
       "        vertical-align: middle;\n",
       "    }\n",
       "\n",
       "    .dataframe tbody tr th {\n",
       "        vertical-align: top;\n",
       "    }\n",
       "\n",
       "    .dataframe thead th {\n",
       "        text-align: right;\n",
       "    }\n",
       "</style>\n",
       "<table border=\"1\" class=\"dataframe\">\n",
       "  <thead>\n",
       "    <tr style=\"text-align: right;\">\n",
       "      <th></th>\n",
       "      <th>invoice_and_item_number</th>\n",
       "      <th>date</th>\n",
       "      <th>store_number</th>\n",
       "      <th>store_name</th>\n",
       "      <th>address</th>\n",
       "      <th>city</th>\n",
       "      <th>zip_code</th>\n",
       "      <th>store_location</th>\n",
       "      <th>county_number</th>\n",
       "      <th>county</th>\n",
       "      <th>...</th>\n",
       "      <th>bottles_sold</th>\n",
       "      <th>sale_dollars</th>\n",
       "      <th>volume_sold_liters</th>\n",
       "      <th>volume_sold_gallons</th>\n",
       "      <th>invoice_number</th>\n",
       "      <th>to_sample</th>\n",
       "      <th>bad_invoice</th>\n",
       "      <th>invoice_letter</th>\n",
       "      <th>latitude</th>\n",
       "      <th>longitude</th>\n",
       "    </tr>\n",
       "  </thead>\n",
       "  <tbody>\n",
       "    <tr>\n",
       "      <th>0</th>\n",
       "      <td>S03731700008</td>\n",
       "      <td>2012-01-25</td>\n",
       "      <td>4090</td>\n",
       "      <td>Mcelroy's Food Market</td>\n",
       "      <td>135 MADISON ST</td>\n",
       "      <td>WINTHROP</td>\n",
       "      <td>50682</td>\n",
       "      <td>POINT (-92.53666400000002 42.951717)</td>\n",
       "      <td>10.0</td>\n",
       "      <td>Buchanan</td>\n",
       "      <td>...</td>\n",
       "      <td>1</td>\n",
       "      <td>15.35</td>\n",
       "      <td>1.0</td>\n",
       "      <td>0.26</td>\n",
       "      <td>S037317</td>\n",
       "      <td>True</td>\n",
       "      <td>False</td>\n",
       "      <td>S</td>\n",
       "      <td>-92.536664</td>\n",
       "      <td>42.951717</td>\n",
       "    </tr>\n",
       "    <tr>\n",
       "      <th>1</th>\n",
       "      <td>S06944000033</td>\n",
       "      <td>2012-08-06</td>\n",
       "      <td>4183</td>\n",
       "      <td>Fareway Stores #589 / Decorah</td>\n",
       "      <td>103 E MAIN</td>\n",
       "      <td>DECORAH</td>\n",
       "      <td>52101</td>\n",
       "      <td>POINT (-91.785286 43.303291)</td>\n",
       "      <td>96.0</td>\n",
       "      <td>Winneshiek</td>\n",
       "      <td>...</td>\n",
       "      <td>1</td>\n",
       "      <td>13.55</td>\n",
       "      <td>1.0</td>\n",
       "      <td>0.26</td>\n",
       "      <td>S069440</td>\n",
       "      <td>True</td>\n",
       "      <td>False</td>\n",
       "      <td>S</td>\n",
       "      <td>-91.785286</td>\n",
       "      <td>43.303291</td>\n",
       "    </tr>\n",
       "    <tr>\n",
       "      <th>2</th>\n",
       "      <td>S26729300053</td>\n",
       "      <td>2015-07-14</td>\n",
       "      <td>2522</td>\n",
       "      <td>Hy-Vee Wine and Spirits / Spirit Lak</td>\n",
       "      <td>HWY 9 &amp; 71</td>\n",
       "      <td>SPIRIT LAKE</td>\n",
       "      <td>51360</td>\n",
       "      <td>NaN</td>\n",
       "      <td>30.0</td>\n",
       "      <td>Dickinson</td>\n",
       "      <td>...</td>\n",
       "      <td>2</td>\n",
       "      <td>14.86</td>\n",
       "      <td>1.0</td>\n",
       "      <td>0.26</td>\n",
       "      <td>S267293</td>\n",
       "      <td>True</td>\n",
       "      <td>False</td>\n",
       "      <td>S</td>\n",
       "      <td>NaN</td>\n",
       "      <td>NaN</td>\n",
       "    </tr>\n",
       "    <tr>\n",
       "      <th>3</th>\n",
       "      <td>S16161000033</td>\n",
       "      <td>2013-12-09</td>\n",
       "      <td>3957</td>\n",
       "      <td>Karl's Grocery Store</td>\n",
       "      <td>101 WEST MADISON</td>\n",
       "      <td>EDGEWOOD</td>\n",
       "      <td>52042</td>\n",
       "      <td>POINT (-91.401487 42.645390000000006)</td>\n",
       "      <td>22.0</td>\n",
       "      <td>Clayton</td>\n",
       "      <td>...</td>\n",
       "      <td>1</td>\n",
       "      <td>14.99</td>\n",
       "      <td>1.0</td>\n",
       "      <td>0.26</td>\n",
       "      <td>S161610</td>\n",
       "      <td>True</td>\n",
       "      <td>False</td>\n",
       "      <td>S</td>\n",
       "      <td>-91.401487</td>\n",
       "      <td>42.645390</td>\n",
       "    </tr>\n",
       "    <tr>\n",
       "      <th>4</th>\n",
       "      <td>S15896500182</td>\n",
       "      <td>2013-11-22</td>\n",
       "      <td>3456</td>\n",
       "      <td>Quick Shop / Clear Lake</td>\n",
       "      <td>904 N 8TH ST</td>\n",
       "      <td>CLEAR LAKE</td>\n",
       "      <td>50428</td>\n",
       "      <td>POINT (-93.378772 43.142868)</td>\n",
       "      <td>17.0</td>\n",
       "      <td>Cerro Gordo</td>\n",
       "      <td>...</td>\n",
       "      <td>1</td>\n",
       "      <td>14.24</td>\n",
       "      <td>1.0</td>\n",
       "      <td>0.26</td>\n",
       "      <td>S158965</td>\n",
       "      <td>True</td>\n",
       "      <td>False</td>\n",
       "      <td>S</td>\n",
       "      <td>-93.378772</td>\n",
       "      <td>43.142868</td>\n",
       "    </tr>\n",
       "  </tbody>\n",
       "</table>\n",
       "<p>5 rows × 30 columns</p>\n",
       "</div>"
      ],
      "text/plain": [
       "  invoice_and_item_number       date  store_number  \\\n",
       "0            S03731700008 2012-01-25          4090   \n",
       "1            S06944000033 2012-08-06          4183   \n",
       "2            S26729300053 2015-07-14          2522   \n",
       "3            S16161000033 2013-12-09          3957   \n",
       "4            S15896500182 2013-11-22          3456   \n",
       "\n",
       "                             store_name           address         city  \\\n",
       "0                 Mcelroy's Food Market    135 MADISON ST     WINTHROP   \n",
       "1         Fareway Stores #589 / Decorah        103 E MAIN      DECORAH   \n",
       "2  Hy-Vee Wine and Spirits / Spirit Lak        HWY 9 & 71  SPIRIT LAKE   \n",
       "3                  Karl's Grocery Store  101 WEST MADISON     EDGEWOOD   \n",
       "4               Quick Shop / Clear Lake      904 N 8TH ST   CLEAR LAKE   \n",
       "\n",
       "  zip_code                         store_location  county_number       county  \\\n",
       "0    50682   POINT (-92.53666400000002 42.951717)           10.0     Buchanan   \n",
       "1    52101           POINT (-91.785286 43.303291)           96.0   Winneshiek   \n",
       "2    51360                                    NaN           30.0    Dickinson   \n",
       "3    52042  POINT (-91.401487 42.645390000000006)           22.0      Clayton   \n",
       "4    50428           POINT (-93.378772 43.142868)           17.0  Cerro Gordo   \n",
       "\n",
       "   ...  bottles_sold sale_dollars  volume_sold_liters volume_sold_gallons  \\\n",
       "0  ...             1        15.35                 1.0                0.26   \n",
       "1  ...             1        13.55                 1.0                0.26   \n",
       "2  ...             2        14.86                 1.0                0.26   \n",
       "3  ...             1        14.99                 1.0                0.26   \n",
       "4  ...             1        14.24                 1.0                0.26   \n",
       "\n",
       "  invoice_number to_sample  bad_invoice  invoice_letter   latitude  longitude  \n",
       "0        S037317      True        False               S -92.536664  42.951717  \n",
       "1        S069440      True        False               S -91.785286  43.303291  \n",
       "2        S267293      True        False               S        NaN        NaN  \n",
       "3        S161610      True        False               S -91.401487  42.645390  \n",
       "4        S158965      True        False               S -93.378772  43.142868  \n",
       "\n",
       "[5 rows x 30 columns]"
      ]
     },
     "execution_count": 40,
     "metadata": {},
     "output_type": "execute_result"
    }
   ],
   "source": [
    "data.head()"
   ]
  },
  {
   "cell_type": "code",
   "execution_count": 6,
   "metadata": {},
   "outputs": [
    {
     "data": {
      "text/plain": [
       "invoice_and_item_number            object\n",
       "date                       datetime64[ns]\n",
       "store_number                        int64\n",
       "store_name                         object\n",
       "address                            object\n",
       "city                               object\n",
       "zip_code                           object\n",
       "store_location                     object\n",
       "county_number                     float64\n",
       "county                             object\n",
       "category                          float64\n",
       "category_name                      object\n",
       "vendor_number                     float64\n",
       "vendor_name                        object\n",
       "item_number                        object\n",
       "item_description                   object\n",
       "pack                                int64\n",
       "bottle_volume_ml                    int64\n",
       "state_bottle_cost                 float64\n",
       "state_bottle_retail               float64\n",
       "bottles_sold                        int64\n",
       "sale_dollars                      float64\n",
       "volume_sold_liters                float64\n",
       "volume_sold_gallons               float64\n",
       "invoice_number                     object\n",
       "to_sample                            bool\n",
       "bad_invoice                          bool\n",
       "invoice_letter                     object\n",
       "dtype: object"
      ]
     },
     "execution_count": 6,
     "metadata": {},
     "output_type": "execute_result"
    }
   ],
   "source": [
    "data.dtypes"
   ]
  },
  {
   "cell_type": "markdown",
   "metadata": {},
   "source": [
    "# Count Items By Object Fields"
   ]
  },
  {
   "cell_type": "code",
   "execution_count": 42,
   "metadata": {},
   "outputs": [
    {
     "data": {
      "application/vnd.jupyter.widget-view+json": {
       "model_id": "06677631dc504f5dbcd0b980b2b5548f",
       "version_major": 2,
       "version_minor": 0
      },
      "text/plain": [
       "interactive(children=(Dropdown(description='column', options=('store_name', 'address', 'city', 'zip_code', 'st…"
      ]
     },
     "metadata": {},
     "output_type": "display_data"
    }
   ],
   "source": [
    "object_columns = ['store_name', 'address', 'city', 'zip_code',\n",
    "       'store_location', 'county', 'category_name', 'vendor_name',\n",
    "       'item_number', 'invoice_number']\n",
    "\n",
    "@ipw.interact\n",
    "def plot_counts(column=object_columns\n",
    "                ,log_transform=[False,True]\n",
    "                ,lower = ipw.IntText(value=0)\n",
    "                ,upper = ipw.IntText(value=max(data.sale_dollars.max(),data.volume_sold_liters.max()))\n",
    "                ,max_values_for_barplot = ipw.IntSlider(min=0,max=30,value=10,step=1)\n",
    "                ,measure=['liters','dollars']):\n",
    "    \n",
    "    columns_to_sum = 'volume_sold_liters' if measure == 'liters' else 'sale_dollars'\n",
    "    \n",
    "    counts = data.groupby(column)[columns_to_sum].sum()\n",
    "    \n",
    "    counts = counts[(counts>=lower)&(counts<=upper)]\n",
    "    \n",
    "    if log_transform:\n",
    "        counts = counts.map(np.log)\n",
    "    \n",
    "    print(column)\n",
    "    print(\"Count:\",data[column].count())\n",
    "    print(\"Unique values:\",data[column].nunique())\n",
    "    print(\"NA:\",data[column].isnull().sum())\n",
    "    \n",
    "    fig, ax = plt.subplots(ncols=2,figsize=(15,4))\n",
    "    sns.distplot(counts,ax=ax[0])\n",
    "    sns.boxplot(counts,ax=ax[1])\n",
    "    ax[0].set_title(f\"{column} kde (Log transform = {log_transform})\",fontsize=15)\n",
    "    ax[1].set_title(f\"{column} kde (Log transform = {log_transform})\",fontsize=15)\n",
    "    \n",
    "    sorted_counts = counts.sort_values(ascending=False)\n",
    "    plt.figure(figsize=(15,4))\n",
    "    sorted_counts.head(max_values_for_barplot).plot.bar(title=f\"Top {max_values_for_barplot} values\")\n",
    "    plt.ylabel(columns_to_sum)\n",
    "    \n",
    "    plt.figure(figsize=(15,4))\n",
    "    sorted_counts.tail(max_values_for_barplot).plot.bar(title=f\"Last {max_values_for_barplot} values\")\n",
    "    plt.ylabel(columns_to_sum)\n"
   ]
  },
  {
   "cell_type": "code",
   "execution_count": 43,
   "metadata": {},
   "outputs": [
    {
     "data": {
      "application/vnd.jupyter.widget-view+json": {
       "model_id": "95890c8c59e54d06aa4ac1cc739d3040",
       "version_major": 2,
       "version_minor": 0
      },
      "text/plain": [
       "interactive(children=(Dropdown(description='field', options=('pack', 'bottle_volume_ml', 'state_bottle_cost', …"
      ]
     },
     "metadata": {},
     "output_type": "display_data"
    }
   ],
   "source": [
    "numeric_fields = ['pack',\n",
    "       'bottle_volume_ml', 'state_bottle_cost', 'state_bottle_retail',\n",
    "       'bottles_sold', 'sale_dollars', 'volume_sold_liters',\n",
    "       'volume_sold_gallons']\n",
    "\n",
    "@ipw.interact\n",
    "def plot_numeric_stats(field=numeric_fields\n",
    "                       ,log_transform=[False, True]\n",
    "                       ,exclude_upper_percent = ipw.FloatSlider(min=0,max=1,step=0.01,value=0)\n",
    "                       ,exclude_lower_percent = ipw.FloatSlider(min=0,max=1,step=0.01,value=0)):\n",
    "    \n",
    "    \n",
    "    upper_bound = data[field].quantile(q=1-exclude_upper_percent)\n",
    "    lower_bound = data[field].quantile(q=exclude_lower_percent)\n",
    "    \n",
    "    series_to_plot = data.query(f\"{field}>={lower_bound} and {field}<={upper_bound}\")[field].dropna() if not log_transform \\\n",
    "                    else data[field].dropna().apply(lambda x: np.log(np.abs(x)+1.0))\n",
    "    fig,ax = plt.subplots(ncols=2,nrows=1,figsize=(11,5))\n",
    "#     ax[0].hist(series_to_plot)\n",
    "#     print(ax)\n",
    "    sns.distplot(series_to_plot,ax=ax[0])\n",
    "    sns.boxplot(series_to_plot,ax=ax[1])\n",
    "    \n",
    "    return qgrid.show_grid(data[numeric_fields].describe())"
   ]
  },
  {
   "cell_type": "markdown",
   "metadata": {},
   "source": [
    "Let's plot geo data:"
   ]
  },
  {
   "cell_type": "code",
   "execution_count": 45,
   "metadata": {},
   "outputs": [],
   "source": [
    "unique_shops = data.groupby(['address','store_name','latitude','longitude'],as_index=False).sale_dollars.sum()"
   ]
  },
  {
   "cell_type": "code",
   "execution_count": 50,
   "metadata": {},
   "outputs": [
    {
     "data": {
      "text/plain": [
       "<matplotlib.axes._subplots.AxesSubplot at 0x22b6a443508>"
      ]
     },
     "execution_count": 50,
     "metadata": {},
     "output_type": "execute_result"
    },
    {
     "data": {
      "image/png": "[encoded data removed]",
      "text/plain": [
       "<Figure size 432x288 with 1 Axes>"
      ]
     },
     "metadata": {
      "needs_background": "light"
     },
     "output_type": "display_data"
    }
   ],
   "source": [
    "unique_shops.dropna().plot.scatter(x='longitude',y='latitude')"
   ]
  },
  {
   "cell_type": "markdown",
   "metadata": {},
   "source": [
    "There are outliers. Let's drop them"
   ]
  },
  {
   "cell_type": "code",
   "execution_count": 51,
   "metadata": {},
   "outputs": [],
   "source": [
    "data['longitude'] = data.longitude.map(lambda x: x if x>40 and x<44 else None)\n",
    "data['latitude'] = data.latitude.map(lambda x: x if x>-97 and x<-87 else None)"
   ]
  },
  {
   "cell_type": "code",
   "execution_count": 53,
   "metadata": {},
   "outputs": [],
   "source": [
    "unique_shops = data.groupby(['address','store_name','latitude','longitude'],as_index=False).sale_dollars.sum()"
   ]
  },
  {
   "cell_type": "code",
   "execution_count": 58,
   "metadata": {},
   "outputs": [
    {
     "data": {
      "text/plain": [
       "<matplotlib.axes._subplots.AxesSubplot at 0x22b0f249688>"
      ]
     },
     "execution_count": 58,
     "metadata": {},
     "output_type": "execute_result"
    },
    {
     "data": {
      "image/png": "[encoded data removed]",
      "text/plain": [
       "<Figure size 432x288 with 1 Axes>"
      ]
     },
     "metadata": {
      "needs_background": "light"
     },
     "output_type": "display_data"
    }
   ],
   "source": [
    "unique_shops.dropna().plot.scatter(x='longitude',y='latitude')"
   ]
  },
  {
   "cell_type": "code",
   "execution_count": null,
   "metadata": {},
   "outputs": [],
   "source": []
  }
 ],
 "metadata": {
  "kernelspec": {
   "display_name": "Python 3",
   "language": "python",
   "name": "python3"
  },
  "language_info": {
   "codemirror_mode": {
    "name": "ipython",
    "version": 3
   },
   "file_extension": ".py",
   "mimetype": "text/x-python",
   "name": "python",
   "nbconvert_exporter": "python",
   "pygments_lexer": "ipython3",
   "version": "3.7.6"
  }
 },
 "nbformat": 4,
 "nbformat_minor": 2
}
